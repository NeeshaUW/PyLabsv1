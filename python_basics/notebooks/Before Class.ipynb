{
 "cells": [
  {
   "cell_type": "markdown",
   "metadata": {},
   "source": [
    "# Before Class\n",
    "If you are seeing this message before class, please make sure you have done the following: \n",
    "\n",
    "## Clone the Class GitHub Repo\n",
    "This means that you will need to copy files from GitHub to your personal computer so that you can follow along and do the in-class labs. \n",
    "- Go to GitHub.com and create a free account (if you don't already have one)\n",
    "- Download GitHub for Desktop\n",
    "- Go to GitHub.com/summerela and click on \"UWFoster_python_bootcamp\"\n",
    "- Find the Big Green Button that says \"Clone or Download\" and click on it\n",
    "- Copy the URL that the big green button pops up\n",
    "- Open GitHub for desktop\n",
    "- Click on File\n",
    "- Click on Clone Repository\n",
    "- A window will pop up, click on the URL tab\n",
    "- Under \"Repository URL\" paste the URL you copied above (https://github.com/summerela/UWFoster_python_bootcamp.git)\n",
    "- Under \"Local Path\" choose where to save the files on your computer, you will need to remember this location (choose the same hard drive where you will/have intsall/installed Anaconda). \n",
    "- Click Clone\n",
    "\n",
    "## Download and Install Anaconda with Python3\n",
    "- Browse to https://www.anaconda.com/distribution/\n",
    "- Download the installation for your operating system and install\n",
    "- Once installed, open Anaconda Navigator\n",
    "- Click on \"Launch Jupyter Notebook\"\n",
    "- In the new browser window that appears, browse to the location of your cloned UWFoster_python_bootcamp folder "
   ]
  }
 ],
 "metadata": {
  "kernelspec": {
   "display_name": "Python 3",
   "language": "python",
   "name": "python3"
  },
  "language_info": {
   "codemirror_mode": {
    "name": "ipython",
    "version": 3
   },
   "file_extension": ".py",
   "mimetype": "text/x-python",
   "name": "python",
   "nbconvert_exporter": "python",
   "pygments_lexer": "ipython3",
   "version": "3.7.1"
  }
 },
 "nbformat": 4,
 "nbformat_minor": 2
}
